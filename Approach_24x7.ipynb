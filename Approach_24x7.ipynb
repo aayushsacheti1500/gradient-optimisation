{
 "cells": [
  {
   "cell_type": "code",
   "execution_count": 1,
   "id": "dfbb48bd",
   "metadata": {},
   "outputs": [],
   "source": [
    "import numpy as np\n",
    "import pandas as pd\n",
    "import matplotlib.pyplot as plt\n",
    "import time\n",
    "from numpy.random import default_rng"
   ]
  },
  {
   "cell_type": "markdown",
   "id": "4deeab0b",
   "metadata": {},
   "source": [
    "### Data Preprocessing"
   ]
  },
  {
   "cell_type": "code",
   "execution_count": 2,
   "id": "e645da3d",
   "metadata": {},
   "outputs": [
    {
     "name": "stdout",
     "output_type": "stream",
     "text": [
      "(2000, 16)\n"
     ]
    },
    {
     "data": {
      "text/html": [
       "<div>\n",
       "<style scoped>\n",
       "    .dataframe tbody tr th:only-of-type {\n",
       "        vertical-align: middle;\n",
       "    }\n",
       "\n",
       "    .dataframe tbody tr th {\n",
       "        vertical-align: top;\n",
       "    }\n",
       "\n",
       "    .dataframe thead th {\n",
       "        text-align: right;\n",
       "    }\n",
       "</style>\n",
       "<table border=\"1\" class=\"dataframe\">\n",
       "  <thead>\n",
       "    <tr style=\"text-align: right;\">\n",
       "      <th></th>\n",
       "      <th>Category_1</th>\n",
       "      <th>Category_2</th>\n",
       "      <th>Ordinal_1</th>\n",
       "      <th>Feature_1</th>\n",
       "      <th>Feature_2</th>\n",
       "      <th>Feature_3</th>\n",
       "      <th>Feature_4</th>\n",
       "      <th>Feature_5</th>\n",
       "      <th>Feature_6</th>\n",
       "      <th>Feature_7</th>\n",
       "      <th>Feature_8</th>\n",
       "      <th>Feature_9</th>\n",
       "      <th>Feature_10</th>\n",
       "      <th>Feature_11</th>\n",
       "      <th>Feature_12</th>\n",
       "      <th>Target</th>\n",
       "    </tr>\n",
       "  </thead>\n",
       "  <tbody>\n",
       "    <tr>\n",
       "      <th>0</th>\n",
       "      <td>B</td>\n",
       "      <td>X</td>\n",
       "      <td>Medium</td>\n",
       "      <td>0.728</td>\n",
       "      <td>4.68000</td>\n",
       "      <td>2.207</td>\n",
       "      <td>-1.5030</td>\n",
       "      <td>1.2380</td>\n",
       "      <td>-2.0940</td>\n",
       "      <td>2.3100</td>\n",
       "      <td>-4.9570</td>\n",
       "      <td>-0.0636</td>\n",
       "      <td>-2.02700</td>\n",
       "      <td>-1.189</td>\n",
       "      <td>3.9940</td>\n",
       "      <td>77.20</td>\n",
       "    </tr>\n",
       "    <tr>\n",
       "      <th>1</th>\n",
       "      <td>A</td>\n",
       "      <td>Y</td>\n",
       "      <td>Medium</td>\n",
       "      <td>1.187</td>\n",
       "      <td>0.08356</td>\n",
       "      <td>2.771</td>\n",
       "      <td>0.7560</td>\n",
       "      <td>-1.1410</td>\n",
       "      <td>0.9062</td>\n",
       "      <td>0.8450</td>\n",
       "      <td>1.0030</td>\n",
       "      <td>1.6670</td>\n",
       "      <td>-0.08386</td>\n",
       "      <td>-1.844</td>\n",
       "      <td>0.9526</td>\n",
       "      <td>58.78</td>\n",
       "    </tr>\n",
       "    <tr>\n",
       "      <th>2</th>\n",
       "      <td>B</td>\n",
       "      <td>Y</td>\n",
       "      <td>Low</td>\n",
       "      <td>-4.793</td>\n",
       "      <td>1.85400</td>\n",
       "      <td>1.027</td>\n",
       "      <td>-0.7573</td>\n",
       "      <td>1.8550</td>\n",
       "      <td>0.9785</td>\n",
       "      <td>1.6640</td>\n",
       "      <td>3.8950</td>\n",
       "      <td>-0.3480</td>\n",
       "      <td>-0.18810</td>\n",
       "      <td>-2.540</td>\n",
       "      <td>3.5760</td>\n",
       "      <td>50.00</td>\n",
       "    </tr>\n",
       "    <tr>\n",
       "      <th>3</th>\n",
       "      <td>B</td>\n",
       "      <td>Y</td>\n",
       "      <td>Medium</td>\n",
       "      <td>-1.512</td>\n",
       "      <td>-0.21910</td>\n",
       "      <td>1.634</td>\n",
       "      <td>-0.3198</td>\n",
       "      <td>0.5930</td>\n",
       "      <td>-0.4540</td>\n",
       "      <td>-0.1495</td>\n",
       "      <td>0.6763</td>\n",
       "      <td>-0.3958</td>\n",
       "      <td>0.70750</td>\n",
       "      <td>3.703</td>\n",
       "      <td>-3.3220</td>\n",
       "      <td>80.44</td>\n",
       "    </tr>\n",
       "    <tr>\n",
       "      <th>4</th>\n",
       "      <td>NaN</td>\n",
       "      <td>X</td>\n",
       "      <td>High</td>\n",
       "      <td>-0.776</td>\n",
       "      <td>2.61300</td>\n",
       "      <td>0.651</td>\n",
       "      <td>-4.3480</td>\n",
       "      <td>0.0322</td>\n",
       "      <td>0.5073</td>\n",
       "      <td>0.9014</td>\n",
       "      <td>0.2050</td>\n",
       "      <td>2.0000</td>\n",
       "      <td>-2.84600</td>\n",
       "      <td>-0.698</td>\n",
       "      <td>1.6150</td>\n",
       "      <td>47.75</td>\n",
       "    </tr>\n",
       "  </tbody>\n",
       "</table>\n",
       "</div>"
      ],
      "text/plain": [
       "  Category_1 Category_2 Ordinal_1  Feature_1  Feature_2  Feature_3  Feature_4   \n",
       "0          B          X    Medium      0.728    4.68000      2.207    -1.5030  \\\n",
       "1          A          Y    Medium      1.187    0.08356      2.771     0.7560   \n",
       "2          B          Y       Low     -4.793    1.85400      1.027    -0.7573   \n",
       "3          B          Y    Medium     -1.512   -0.21910      1.634    -0.3198   \n",
       "4        NaN          X      High     -0.776    2.61300      0.651    -4.3480   \n",
       "\n",
       "   Feature_5  Feature_6  Feature_7  Feature_8  Feature_9  Feature_10   \n",
       "0     1.2380    -2.0940     2.3100    -4.9570    -0.0636    -2.02700  \\\n",
       "1    -1.1410     0.9062     0.8450     1.0030     1.6670    -0.08386   \n",
       "2     1.8550     0.9785     1.6640     3.8950    -0.3480    -0.18810   \n",
       "3     0.5930    -0.4540    -0.1495     0.6763    -0.3958     0.70750   \n",
       "4     0.0322     0.5073     0.9014     0.2050     2.0000    -2.84600   \n",
       "\n",
       "   Feature_11  Feature_12  Target  \n",
       "0      -1.189      3.9940   77.20  \n",
       "1      -1.844      0.9526   58.78  \n",
       "2      -2.540      3.5760   50.00  \n",
       "3       3.703     -3.3220   80.44  \n",
       "4      -0.698      1.6150   47.75  "
      ]
     },
     "execution_count": 2,
     "metadata": {},
     "output_type": "execute_result"
    }
   ],
   "source": [
    "df = pd.read_csv(\"linear_regression_dataset.csv\")\n",
    "print(df.shape)\n",
    "df.head()"
   ]
  },
  {
   "cell_type": "code",
   "execution_count": 3,
   "id": "36666ca7",
   "metadata": {},
   "outputs": [
    {
     "data": {
      "text/html": [
       "<div>\n",
       "<style scoped>\n",
       "    .dataframe tbody tr th:only-of-type {\n",
       "        vertical-align: middle;\n",
       "    }\n",
       "\n",
       "    .dataframe tbody tr th {\n",
       "        vertical-align: top;\n",
       "    }\n",
       "\n",
       "    .dataframe thead th {\n",
       "        text-align: right;\n",
       "    }\n",
       "</style>\n",
       "<table border=\"1\" class=\"dataframe\">\n",
       "  <thead>\n",
       "    <tr style=\"text-align: right;\">\n",
       "      <th></th>\n",
       "      <th>Feature_1</th>\n",
       "      <th>Feature_2</th>\n",
       "      <th>Feature_3</th>\n",
       "      <th>Feature_4</th>\n",
       "      <th>Feature_5</th>\n",
       "      <th>Feature_6</th>\n",
       "      <th>Feature_7</th>\n",
       "      <th>Feature_8</th>\n",
       "      <th>Feature_9</th>\n",
       "      <th>Feature_10</th>\n",
       "      <th>Feature_11</th>\n",
       "      <th>Feature_12</th>\n",
       "      <th>Target</th>\n",
       "    </tr>\n",
       "  </thead>\n",
       "  <tbody>\n",
       "    <tr>\n",
       "      <th>count</th>\n",
       "      <td>1917.000000</td>\n",
       "      <td>1923.000000</td>\n",
       "      <td>1881.000000</td>\n",
       "      <td>1906.000000</td>\n",
       "      <td>1892.000000</td>\n",
       "      <td>1903.000000</td>\n",
       "      <td>1898.000000</td>\n",
       "      <td>1908.000000</td>\n",
       "      <td>1914.000000</td>\n",
       "      <td>1916.000000</td>\n",
       "      <td>1895.000000</td>\n",
       "      <td>1901.000000</td>\n",
       "      <td>2000.000000</td>\n",
       "    </tr>\n",
       "    <tr>\n",
       "      <th>mean</th>\n",
       "      <td>0.343145</td>\n",
       "      <td>0.356578</td>\n",
       "      <td>0.119760</td>\n",
       "      <td>0.184659</td>\n",
       "      <td>0.316897</td>\n",
       "      <td>0.081237</td>\n",
       "      <td>0.974342</td>\n",
       "      <td>0.762045</td>\n",
       "      <td>0.777979</td>\n",
       "      <td>0.252236</td>\n",
       "      <td>0.299347</td>\n",
       "      <td>0.745607</td>\n",
       "      <td>45.453025</td>\n",
       "    </tr>\n",
       "    <tr>\n",
       "      <th>std</th>\n",
       "      <td>2.544353</td>\n",
       "      <td>2.555801</td>\n",
       "      <td>1.697388</td>\n",
       "      <td>2.039606</td>\n",
       "      <td>1.436178</td>\n",
       "      <td>2.683698</td>\n",
       "      <td>0.918792</td>\n",
       "      <td>2.424669</td>\n",
       "      <td>1.084848</td>\n",
       "      <td>2.374187</td>\n",
       "      <td>2.794408</td>\n",
       "      <td>2.775212</td>\n",
       "      <td>49.283451</td>\n",
       "    </tr>\n",
       "    <tr>\n",
       "      <th>min</th>\n",
       "      <td>-8.060000</td>\n",
       "      <td>-8.690000</td>\n",
       "      <td>-4.883000</td>\n",
       "      <td>-7.113000</td>\n",
       "      <td>-4.370000</td>\n",
       "      <td>-9.010000</td>\n",
       "      <td>-2.348000</td>\n",
       "      <td>-8.200000</td>\n",
       "      <td>-3.320000</td>\n",
       "      <td>-7.594000</td>\n",
       "      <td>-9.110000</td>\n",
       "      <td>-8.260000</td>\n",
       "      <td>-134.400000</td>\n",
       "    </tr>\n",
       "    <tr>\n",
       "      <th>25%</th>\n",
       "      <td>-1.453000</td>\n",
       "      <td>-1.342000</td>\n",
       "      <td>-1.023000</td>\n",
       "      <td>-1.169750</td>\n",
       "      <td>-0.687500</td>\n",
       "      <td>-1.667000</td>\n",
       "      <td>0.370925</td>\n",
       "      <td>-0.843900</td>\n",
       "      <td>0.063992</td>\n",
       "      <td>-1.353000</td>\n",
       "      <td>-1.564250</td>\n",
       "      <td>-1.148000</td>\n",
       "      <td>11.845000</td>\n",
       "    </tr>\n",
       "    <tr>\n",
       "      <th>50%</th>\n",
       "      <td>0.345500</td>\n",
       "      <td>0.341800</td>\n",
       "      <td>0.107500</td>\n",
       "      <td>0.223200</td>\n",
       "      <td>0.316650</td>\n",
       "      <td>0.086850</td>\n",
       "      <td>0.981700</td>\n",
       "      <td>0.722850</td>\n",
       "      <td>0.797000</td>\n",
       "      <td>0.254350</td>\n",
       "      <td>0.318800</td>\n",
       "      <td>0.744600</td>\n",
       "      <td>46.640000</td>\n",
       "    </tr>\n",
       "    <tr>\n",
       "      <th>75%</th>\n",
       "      <td>1.998000</td>\n",
       "      <td>2.072000</td>\n",
       "      <td>1.191000</td>\n",
       "      <td>1.551500</td>\n",
       "      <td>1.302750</td>\n",
       "      <td>1.811500</td>\n",
       "      <td>1.601750</td>\n",
       "      <td>2.395250</td>\n",
       "      <td>1.500000</td>\n",
       "      <td>1.897250</td>\n",
       "      <td>2.149000</td>\n",
       "      <td>2.629000</td>\n",
       "      <td>78.212500</td>\n",
       "    </tr>\n",
       "    <tr>\n",
       "      <th>max</th>\n",
       "      <td>9.050000</td>\n",
       "      <td>8.960000</td>\n",
       "      <td>7.875000</td>\n",
       "      <td>7.470000</td>\n",
       "      <td>5.574000</td>\n",
       "      <td>8.664000</td>\n",
       "      <td>4.004000</td>\n",
       "      <td>8.625000</td>\n",
       "      <td>4.453000</td>\n",
       "      <td>7.510000</td>\n",
       "      <td>9.070000</td>\n",
       "      <td>11.150000</td>\n",
       "      <td>201.900000</td>\n",
       "    </tr>\n",
       "  </tbody>\n",
       "</table>\n",
       "</div>"
      ],
      "text/plain": [
       "         Feature_1    Feature_2    Feature_3    Feature_4    Feature_5   \n",
       "count  1917.000000  1923.000000  1881.000000  1906.000000  1892.000000  \\\n",
       "mean      0.343145     0.356578     0.119760     0.184659     0.316897   \n",
       "std       2.544353     2.555801     1.697388     2.039606     1.436178   \n",
       "min      -8.060000    -8.690000    -4.883000    -7.113000    -4.370000   \n",
       "25%      -1.453000    -1.342000    -1.023000    -1.169750    -0.687500   \n",
       "50%       0.345500     0.341800     0.107500     0.223200     0.316650   \n",
       "75%       1.998000     2.072000     1.191000     1.551500     1.302750   \n",
       "max       9.050000     8.960000     7.875000     7.470000     5.574000   \n",
       "\n",
       "         Feature_6    Feature_7    Feature_8    Feature_9   Feature_10   \n",
       "count  1903.000000  1898.000000  1908.000000  1914.000000  1916.000000  \\\n",
       "mean      0.081237     0.974342     0.762045     0.777979     0.252236   \n",
       "std       2.683698     0.918792     2.424669     1.084848     2.374187   \n",
       "min      -9.010000    -2.348000    -8.200000    -3.320000    -7.594000   \n",
       "25%      -1.667000     0.370925    -0.843900     0.063992    -1.353000   \n",
       "50%       0.086850     0.981700     0.722850     0.797000     0.254350   \n",
       "75%       1.811500     1.601750     2.395250     1.500000     1.897250   \n",
       "max       8.664000     4.004000     8.625000     4.453000     7.510000   \n",
       "\n",
       "        Feature_11   Feature_12       Target  \n",
       "count  1895.000000  1901.000000  2000.000000  \n",
       "mean      0.299347     0.745607    45.453025  \n",
       "std       2.794408     2.775212    49.283451  \n",
       "min      -9.110000    -8.260000  -134.400000  \n",
       "25%      -1.564250    -1.148000    11.845000  \n",
       "50%       0.318800     0.744600    46.640000  \n",
       "75%       2.149000     2.629000    78.212500  \n",
       "max       9.070000    11.150000   201.900000  "
      ]
     },
     "execution_count": 3,
     "metadata": {},
     "output_type": "execute_result"
    }
   ],
   "source": [
    "df.describe()"
   ]
  },
  {
   "cell_type": "code",
   "execution_count": 4,
   "id": "28523cab",
   "metadata": {},
   "outputs": [
    {
     "data": {
      "text/plain": [
       "Category_1     object\n",
       "Category_2     object\n",
       "Ordinal_1      object\n",
       "Feature_1     float64\n",
       "Feature_2     float64\n",
       "Feature_3     float64\n",
       "Feature_4     float64\n",
       "Feature_5     float64\n",
       "Feature_6     float64\n",
       "Feature_7     float64\n",
       "Feature_8     float64\n",
       "Feature_9     float64\n",
       "Feature_10    float64\n",
       "Feature_11    float64\n",
       "Feature_12    float64\n",
       "Target        float64\n",
       "dtype: object"
      ]
     },
     "execution_count": 4,
     "metadata": {},
     "output_type": "execute_result"
    }
   ],
   "source": [
    "df.dtypes"
   ]
  },
  {
   "cell_type": "code",
   "execution_count": 5,
   "id": "e3a8a6ee",
   "metadata": {},
   "outputs": [
    {
     "data": {
      "text/plain": [
       "Category_1    5.80\n",
       "Category_2    5.05\n",
       "Ordinal_1     4.50\n",
       "Feature_1     4.15\n",
       "Feature_2     3.85\n",
       "Feature_3     5.95\n",
       "Feature_4     4.70\n",
       "Feature_5     5.40\n",
       "Feature_6     4.85\n",
       "Feature_7     5.10\n",
       "Feature_8     4.60\n",
       "Feature_9     4.30\n",
       "Feature_10    4.20\n",
       "Feature_11    5.25\n",
       "Feature_12    4.95\n",
       "Target        0.00\n",
       "dtype: float64"
      ]
     },
     "execution_count": 5,
     "metadata": {},
     "output_type": "execute_result"
    }
   ],
   "source": [
    "df.isna().sum()/len(df)*100"
   ]
  },
  {
   "cell_type": "code",
   "execution_count": 6,
   "id": "4630cd27",
   "metadata": {},
   "outputs": [
    {
     "data": {
      "text/plain": [
       "Category_1\n",
       "B    668\n",
       "A    616\n",
       "C    600\n",
       "Name: count, dtype: int64"
      ]
     },
     "execution_count": 6,
     "metadata": {},
     "output_type": "execute_result"
    }
   ],
   "source": [
    "df.loc[:,'Category_1'].value_counts()"
   ]
  },
  {
   "cell_type": "code",
   "execution_count": 7,
   "id": "7c4530ba",
   "metadata": {},
   "outputs": [
    {
     "data": {
      "text/plain": [
       "Category_2\n",
       "X    970\n",
       "Y    929\n",
       "Name: count, dtype: int64"
      ]
     },
     "execution_count": 7,
     "metadata": {},
     "output_type": "execute_result"
    }
   ],
   "source": [
    "df.loc[:,'Category_2'].value_counts()"
   ]
  },
  {
   "cell_type": "code",
   "execution_count": 8,
   "id": "5ebf8eac",
   "metadata": {},
   "outputs": [
    {
     "data": {
      "text/plain": [
       "Ordinal_1\n",
       "Low       768\n",
       "Medium    735\n",
       "High      407\n",
       "Name: count, dtype: int64"
      ]
     },
     "execution_count": 8,
     "metadata": {},
     "output_type": "execute_result"
    }
   ],
   "source": [
    "df.loc[:,'Ordinal_1'].value_counts()"
   ]
  },
  {
   "cell_type": "code",
   "execution_count": 9,
   "id": "d2cea91e",
   "metadata": {},
   "outputs": [],
   "source": [
    "def fn_trf(val,cat):\n",
    "    if val==cat:\n",
    "        return 1.0\n",
    "    return 0\n",
    "\n",
    "df['Category_1_A'] = df['Category_1'].apply(fn_trf,args='A')\n",
    "df['Category_1_B'] = df['Category_1'].apply(fn_trf,args='B')\n",
    "df['Category_1_C'] = df['Category_1'].apply(fn_trf,args='C')\n",
    "\n",
    "df['Category_2_X'] = df['Category_2'].apply(fn_trf,args='X')\n",
    "df['Category_2_Y'] = df['Category_2'].apply(fn_trf,args='Y')"
   ]
  },
  {
   "cell_type": "code",
   "execution_count": 10,
   "id": "6e946aa2",
   "metadata": {},
   "outputs": [],
   "source": [
    "def ordinal(val):\n",
    "    if val=='Low':\n",
    "        return 0\n",
    "    if val=='Medium':\n",
    "        return 1\n",
    "    if val=='High':\n",
    "        return 2\n",
    "    \n",
    "df['ordinal'] = df['Ordinal_1'].apply(ordinal)"
   ]
  },
  {
   "cell_type": "code",
   "execution_count": 11,
   "id": "8b5afaa5",
   "metadata": {},
   "outputs": [],
   "source": [
    "df = df.drop(['Category_1', 'Category_2', 'Ordinal_1'], axis=1)"
   ]
  },
  {
   "cell_type": "code",
   "execution_count": 12,
   "id": "50c587e1",
   "metadata": {},
   "outputs": [
    {
     "data": {
      "text/plain": [
       "(2000, 19)"
      ]
     },
     "execution_count": 12,
     "metadata": {},
     "output_type": "execute_result"
    }
   ],
   "source": [
    "df.shape"
   ]
  },
  {
   "cell_type": "code",
   "execution_count": 13,
   "id": "19c47ddf",
   "metadata": {},
   "outputs": [
    {
     "data": {
      "text/plain": [
       "Feature_1        0.343145\n",
       "Feature_2        0.356578\n",
       "Feature_3        0.119760\n",
       "Feature_4        0.184659\n",
       "Feature_5        0.316897\n",
       "Feature_6        0.081237\n",
       "Feature_7        0.974342\n",
       "Feature_8        0.762045\n",
       "Feature_9        0.777979\n",
       "Feature_10       0.252236\n",
       "Feature_11       0.299347\n",
       "Feature_12       0.745607\n",
       "Target          45.453025\n",
       "Category_1_A     0.308000\n",
       "Category_1_B     0.334000\n",
       "Category_1_C     0.300000\n",
       "Category_2_X     0.485000\n",
       "Category_2_Y     0.464500\n",
       "ordinal          0.810995\n",
       "dtype: float64"
      ]
     },
     "execution_count": 13,
     "metadata": {},
     "output_type": "execute_result"
    }
   ],
   "source": [
    "df.mean()"
   ]
  },
  {
   "cell_type": "code",
   "execution_count": 14,
   "id": "e99af843",
   "metadata": {},
   "outputs": [],
   "source": [
    "df = df.fillna(df.mean())"
   ]
  },
  {
   "cell_type": "code",
   "execution_count": 15,
   "id": "4218295f",
   "metadata": {},
   "outputs": [],
   "source": [
    "def scale(val,minv,maxv):\n",
    "    return (val-minv)/maxv\n",
    "def minmax(df):\n",
    "    n = df.shape[1]\n",
    "    for col in df.columns:\n",
    "        if col=='Target':\n",
    "            continue\n",
    "        minv = min(df.loc[:,col].tolist())\n",
    "        maxv = max(df.loc[:,col].tolist())\n",
    "        df[col] = df[col].apply(scale,args=(minv,maxv))\n",
    "    return df"
   ]
  },
  {
   "cell_type": "code",
   "execution_count": 16,
   "id": "12c7f3b9",
   "metadata": {},
   "outputs": [
    {
     "data": {
      "text/html": [
       "<div>\n",
       "<style scoped>\n",
       "    .dataframe tbody tr th:only-of-type {\n",
       "        vertical-align: middle;\n",
       "    }\n",
       "\n",
       "    .dataframe tbody tr th {\n",
       "        vertical-align: top;\n",
       "    }\n",
       "\n",
       "    .dataframe thead th {\n",
       "        text-align: right;\n",
       "    }\n",
       "</style>\n",
       "<table border=\"1\" class=\"dataframe\">\n",
       "  <thead>\n",
       "    <tr style=\"text-align: right;\">\n",
       "      <th></th>\n",
       "      <th>Feature_1</th>\n",
       "      <th>Feature_2</th>\n",
       "      <th>Feature_3</th>\n",
       "      <th>Feature_4</th>\n",
       "      <th>Feature_5</th>\n",
       "      <th>Feature_6</th>\n",
       "      <th>Feature_7</th>\n",
       "      <th>Feature_8</th>\n",
       "      <th>Feature_9</th>\n",
       "      <th>Feature_10</th>\n",
       "      <th>Feature_11</th>\n",
       "      <th>Feature_12</th>\n",
       "      <th>Target</th>\n",
       "      <th>Category_1_A</th>\n",
       "      <th>Category_1_B</th>\n",
       "      <th>Category_1_C</th>\n",
       "      <th>Category_2_X</th>\n",
       "      <th>Category_2_Y</th>\n",
       "      <th>ordinal</th>\n",
       "    </tr>\n",
       "  </thead>\n",
       "  <tbody>\n",
       "    <tr>\n",
       "      <th>count</th>\n",
       "      <td>2000.000000</td>\n",
       "      <td>2000.000000</td>\n",
       "      <td>2000.000000</td>\n",
       "      <td>2000.000000</td>\n",
       "      <td>2000.000000</td>\n",
       "      <td>2000.000000</td>\n",
       "      <td>2000.000000</td>\n",
       "      <td>2000.000000</td>\n",
       "      <td>2000.000000</td>\n",
       "      <td>2000.000000</td>\n",
       "      <td>2000.000000</td>\n",
       "      <td>2000.000000</td>\n",
       "      <td>2000.000000</td>\n",
       "      <td>2000.000000</td>\n",
       "      <td>2000.000000</td>\n",
       "      <td>2000.000000</td>\n",
       "      <td>2000.0000</td>\n",
       "      <td>2000.000000</td>\n",
       "      <td>2000.000000</td>\n",
       "    </tr>\n",
       "    <tr>\n",
       "      <th>mean</th>\n",
       "      <td>0.928524</td>\n",
       "      <td>1.009663</td>\n",
       "      <td>0.635271</td>\n",
       "      <td>0.976929</td>\n",
       "      <td>0.840850</td>\n",
       "      <td>1.049312</td>\n",
       "      <td>0.829756</td>\n",
       "      <td>1.039078</td>\n",
       "      <td>0.920274</td>\n",
       "      <td>1.044772</td>\n",
       "      <td>1.037414</td>\n",
       "      <td>0.807678</td>\n",
       "      <td>45.453025</td>\n",
       "      <td>0.308000</td>\n",
       "      <td>0.334000</td>\n",
       "      <td>0.300000</td>\n",
       "      <td>0.4850</td>\n",
       "      <td>0.464500</td>\n",
       "      <td>0.405497</td>\n",
       "    </tr>\n",
       "    <tr>\n",
       "      <th>std</th>\n",
       "      <td>0.275245</td>\n",
       "      <td>0.279698</td>\n",
       "      <td>0.209027</td>\n",
       "      <td>0.266543</td>\n",
       "      <td>0.250600</td>\n",
       "      <td>0.302144</td>\n",
       "      <td>0.223537</td>\n",
       "      <td>0.274576</td>\n",
       "      <td>0.238324</td>\n",
       "      <td>0.309423</td>\n",
       "      <td>0.299893</td>\n",
       "      <td>0.242656</td>\n",
       "      <td>49.283451</td>\n",
       "      <td>0.461782</td>\n",
       "      <td>0.471758</td>\n",
       "      <td>0.458372</td>\n",
       "      <td>0.4999</td>\n",
       "      <td>0.498863</td>\n",
       "      <td>0.372042</td>\n",
       "    </tr>\n",
       "    <tr>\n",
       "      <th>min</th>\n",
       "      <td>0.000000</td>\n",
       "      <td>0.000000</td>\n",
       "      <td>0.000000</td>\n",
       "      <td>0.000000</td>\n",
       "      <td>0.000000</td>\n",
       "      <td>0.000000</td>\n",
       "      <td>0.000000</td>\n",
       "      <td>0.000000</td>\n",
       "      <td>0.000000</td>\n",
       "      <td>0.000000</td>\n",
       "      <td>0.000000</td>\n",
       "      <td>0.000000</td>\n",
       "      <td>-134.400000</td>\n",
       "      <td>0.000000</td>\n",
       "      <td>0.000000</td>\n",
       "      <td>0.000000</td>\n",
       "      <td>0.0000</td>\n",
       "      <td>0.000000</td>\n",
       "      <td>0.000000</td>\n",
       "    </tr>\n",
       "    <tr>\n",
       "      <th>25%</th>\n",
       "      <td>0.744116</td>\n",
       "      <td>0.827539</td>\n",
       "      <td>0.498603</td>\n",
       "      <td>0.803447</td>\n",
       "      <td>0.672452</td>\n",
       "      <td>0.859534</td>\n",
       "      <td>0.686732</td>\n",
       "      <td>0.861623</td>\n",
       "      <td>0.765526</td>\n",
       "      <td>0.845373</td>\n",
       "      <td>0.840959</td>\n",
       "      <td>0.649462</td>\n",
       "      <td>11.845000</td>\n",
       "      <td>0.000000</td>\n",
       "      <td>0.000000</td>\n",
       "      <td>0.000000</td>\n",
       "      <td>0.0000</td>\n",
       "      <td>0.000000</td>\n",
       "      <td>0.000000</td>\n",
       "    </tr>\n",
       "    <tr>\n",
       "      <th>50%</th>\n",
       "      <td>0.928524</td>\n",
       "      <td>1.009663</td>\n",
       "      <td>0.635271</td>\n",
       "      <td>0.976929</td>\n",
       "      <td>0.840850</td>\n",
       "      <td>1.049312</td>\n",
       "      <td>0.829756</td>\n",
       "      <td>1.039078</td>\n",
       "      <td>0.920274</td>\n",
       "      <td>1.044772</td>\n",
       "      <td>1.037414</td>\n",
       "      <td>0.807678</td>\n",
       "      <td>46.640000</td>\n",
       "      <td>0.000000</td>\n",
       "      <td>0.000000</td>\n",
       "      <td>0.000000</td>\n",
       "      <td>0.0000</td>\n",
       "      <td>0.000000</td>\n",
       "      <td>0.500000</td>\n",
       "    </tr>\n",
       "    <tr>\n",
       "      <th>75%</th>\n",
       "      <td>1.102072</td>\n",
       "      <td>1.191350</td>\n",
       "      <td>0.761302</td>\n",
       "      <td>1.152945</td>\n",
       "      <td>1.006100</td>\n",
       "      <td>1.234779</td>\n",
       "      <td>0.975649</td>\n",
       "      <td>1.215304</td>\n",
       "      <td>1.070065</td>\n",
       "      <td>1.256158</td>\n",
       "      <td>1.224476</td>\n",
       "      <td>0.970628</td>\n",
       "      <td>78.212500</td>\n",
       "      <td>1.000000</td>\n",
       "      <td>1.000000</td>\n",
       "      <td>1.000000</td>\n",
       "      <td>1.0000</td>\n",
       "      <td>1.000000</td>\n",
       "      <td>0.500000</td>\n",
       "    </tr>\n",
       "    <tr>\n",
       "      <th>max</th>\n",
       "      <td>1.890608</td>\n",
       "      <td>1.969866</td>\n",
       "      <td>1.620063</td>\n",
       "      <td>1.952209</td>\n",
       "      <td>1.783997</td>\n",
       "      <td>2.039935</td>\n",
       "      <td>1.586414</td>\n",
       "      <td>1.950725</td>\n",
       "      <td>1.745565</td>\n",
       "      <td>2.011185</td>\n",
       "      <td>2.004410</td>\n",
       "      <td>1.740807</td>\n",
       "      <td>201.900000</td>\n",
       "      <td>1.000000</td>\n",
       "      <td>1.000000</td>\n",
       "      <td>1.000000</td>\n",
       "      <td>1.0000</td>\n",
       "      <td>1.000000</td>\n",
       "      <td>1.000000</td>\n",
       "    </tr>\n",
       "  </tbody>\n",
       "</table>\n",
       "</div>"
      ],
      "text/plain": [
       "         Feature_1    Feature_2    Feature_3    Feature_4    Feature_5   \n",
       "count  2000.000000  2000.000000  2000.000000  2000.000000  2000.000000  \\\n",
       "mean      0.928524     1.009663     0.635271     0.976929     0.840850   \n",
       "std       0.275245     0.279698     0.209027     0.266543     0.250600   \n",
       "min       0.000000     0.000000     0.000000     0.000000     0.000000   \n",
       "25%       0.744116     0.827539     0.498603     0.803447     0.672452   \n",
       "50%       0.928524     1.009663     0.635271     0.976929     0.840850   \n",
       "75%       1.102072     1.191350     0.761302     1.152945     1.006100   \n",
       "max       1.890608     1.969866     1.620063     1.952209     1.783997   \n",
       "\n",
       "         Feature_6    Feature_7    Feature_8    Feature_9   Feature_10   \n",
       "count  2000.000000  2000.000000  2000.000000  2000.000000  2000.000000  \\\n",
       "mean      1.049312     0.829756     1.039078     0.920274     1.044772   \n",
       "std       0.302144     0.223537     0.274576     0.238324     0.309423   \n",
       "min       0.000000     0.000000     0.000000     0.000000     0.000000   \n",
       "25%       0.859534     0.686732     0.861623     0.765526     0.845373   \n",
       "50%       1.049312     0.829756     1.039078     0.920274     1.044772   \n",
       "75%       1.234779     0.975649     1.215304     1.070065     1.256158   \n",
       "max       2.039935     1.586414     1.950725     1.745565     2.011185   \n",
       "\n",
       "        Feature_11   Feature_12       Target  Category_1_A  Category_1_B   \n",
       "count  2000.000000  2000.000000  2000.000000   2000.000000   2000.000000  \\\n",
       "mean      1.037414     0.807678    45.453025      0.308000      0.334000   \n",
       "std       0.299893     0.242656    49.283451      0.461782      0.471758   \n",
       "min       0.000000     0.000000  -134.400000      0.000000      0.000000   \n",
       "25%       0.840959     0.649462    11.845000      0.000000      0.000000   \n",
       "50%       1.037414     0.807678    46.640000      0.000000      0.000000   \n",
       "75%       1.224476     0.970628    78.212500      1.000000      1.000000   \n",
       "max       2.004410     1.740807   201.900000      1.000000      1.000000   \n",
       "\n",
       "       Category_1_C  Category_2_X  Category_2_Y      ordinal  \n",
       "count   2000.000000     2000.0000   2000.000000  2000.000000  \n",
       "mean       0.300000        0.4850      0.464500     0.405497  \n",
       "std        0.458372        0.4999      0.498863     0.372042  \n",
       "min        0.000000        0.0000      0.000000     0.000000  \n",
       "25%        0.000000        0.0000      0.000000     0.000000  \n",
       "50%        0.000000        0.0000      0.000000     0.500000  \n",
       "75%        1.000000        1.0000      1.000000     0.500000  \n",
       "max        1.000000        1.0000      1.000000     1.000000  "
      ]
     },
     "execution_count": 16,
     "metadata": {},
     "output_type": "execute_result"
    }
   ],
   "source": [
    "df = minmax(df)\n",
    "df.describe()"
   ]
  },
  {
   "cell_type": "code",
   "execution_count": 17,
   "id": "49b4013c",
   "metadata": {},
   "outputs": [
    {
     "data": {
      "text/plain": [
       "Index(['Feature_1', 'Feature_2', 'Feature_3', 'Feature_4', 'Feature_5',\n",
       "       'Feature_6', 'Feature_7', 'Feature_8', 'Feature_9', 'Feature_10',\n",
       "       'Feature_11', 'Feature_12', 'Target', 'Category_1_A', 'Category_1_B',\n",
       "       'Category_1_C', 'Category_2_X', 'Category_2_Y', 'ordinal'],\n",
       "      dtype='object')"
      ]
     },
     "execution_count": 17,
     "metadata": {},
     "output_type": "execute_result"
    }
   ],
   "source": [
    "df.columns"
   ]
  },
  {
   "cell_type": "code",
   "execution_count": 18,
   "id": "d5345b79",
   "metadata": {},
   "outputs": [],
   "source": [
    "cols = ['Feature_1', 'Feature_2', 'Feature_3', 'Feature_4', 'Feature_5',\n",
    "       'Feature_6', 'Feature_7', 'Feature_8', 'Feature_9', 'Feature_10',\n",
    "       'Feature_11', 'Feature_12', 'Category_1_A', 'Category_1_B',\n",
    "       'Category_1_C', 'Category_2_X', 'Category_2_Y', 'ordinal','Target']\n",
    "df = df[cols]"
   ]
  },
  {
   "cell_type": "code",
   "execution_count": 19,
   "id": "2fa47e9e",
   "metadata": {},
   "outputs": [
    {
     "data": {
      "text/html": [
       "<div>\n",
       "<style scoped>\n",
       "    .dataframe tbody tr th:only-of-type {\n",
       "        vertical-align: middle;\n",
       "    }\n",
       "\n",
       "    .dataframe tbody tr th {\n",
       "        vertical-align: top;\n",
       "    }\n",
       "\n",
       "    .dataframe thead th {\n",
       "        text-align: right;\n",
       "    }\n",
       "</style>\n",
       "<table border=\"1\" class=\"dataframe\">\n",
       "  <thead>\n",
       "    <tr style=\"text-align: right;\">\n",
       "      <th></th>\n",
       "      <th>Feature_1</th>\n",
       "      <th>Feature_2</th>\n",
       "      <th>Feature_3</th>\n",
       "      <th>Feature_4</th>\n",
       "      <th>Feature_5</th>\n",
       "      <th>Feature_6</th>\n",
       "      <th>Feature_7</th>\n",
       "      <th>Feature_8</th>\n",
       "      <th>Feature_9</th>\n",
       "      <th>Feature_10</th>\n",
       "      <th>Feature_11</th>\n",
       "      <th>Feature_12</th>\n",
       "      <th>Category_1_A</th>\n",
       "      <th>Category_1_B</th>\n",
       "      <th>Category_1_C</th>\n",
       "      <th>Category_2_X</th>\n",
       "      <th>Category_2_Y</th>\n",
       "      <th>ordinal</th>\n",
       "      <th>Target</th>\n",
       "    </tr>\n",
       "  </thead>\n",
       "  <tbody>\n",
       "    <tr>\n",
       "      <th>0</th>\n",
       "      <td>0.971050</td>\n",
       "      <td>1.492187</td>\n",
       "      <td>0.900317</td>\n",
       "      <td>0.751004</td>\n",
       "      <td>1.006100</td>\n",
       "      <td>0.798246</td>\n",
       "      <td>1.163337</td>\n",
       "      <td>0.376000</td>\n",
       "      <td>0.731282</td>\n",
       "      <td>0.741278</td>\n",
       "      <td>0.873319</td>\n",
       "      <td>1.099013</td>\n",
       "      <td>0.0</td>\n",
       "      <td>1.0</td>\n",
       "      <td>0.0</td>\n",
       "      <td>1.0</td>\n",
       "      <td>0.0</td>\n",
       "      <td>0.5</td>\n",
       "      <td>77.20</td>\n",
       "    </tr>\n",
       "    <tr>\n",
       "      <th>1</th>\n",
       "      <td>1.021768</td>\n",
       "      <td>0.979192</td>\n",
       "      <td>0.971937</td>\n",
       "      <td>1.053414</td>\n",
       "      <td>0.579297</td>\n",
       "      <td>1.144529</td>\n",
       "      <td>0.797453</td>\n",
       "      <td>1.067014</td>\n",
       "      <td>1.119919</td>\n",
       "      <td>1.000019</td>\n",
       "      <td>0.801103</td>\n",
       "      <td>0.826242</td>\n",
       "      <td>1.0</td>\n",
       "      <td>0.0</td>\n",
       "      <td>0.0</td>\n",
       "      <td>0.0</td>\n",
       "      <td>1.0</td>\n",
       "      <td>0.5</td>\n",
       "      <td>58.78</td>\n",
       "    </tr>\n",
       "    <tr>\n",
       "      <th>2</th>\n",
       "      <td>0.360994</td>\n",
       "      <td>1.176786</td>\n",
       "      <td>0.750476</td>\n",
       "      <td>0.850830</td>\n",
       "      <td>1.116792</td>\n",
       "      <td>1.152874</td>\n",
       "      <td>1.001998</td>\n",
       "      <td>1.402319</td>\n",
       "      <td>0.667415</td>\n",
       "      <td>0.986138</td>\n",
       "      <td>0.724366</td>\n",
       "      <td>1.061525</td>\n",
       "      <td>0.0</td>\n",
       "      <td>1.0</td>\n",
       "      <td>0.0</td>\n",
       "      <td>0.0</td>\n",
       "      <td>1.0</td>\n",
       "      <td>0.0</td>\n",
       "      <td>50.00</td>\n",
       "    </tr>\n",
       "    <tr>\n",
       "      <th>3</th>\n",
       "      <td>0.723536</td>\n",
       "      <td>0.945413</td>\n",
       "      <td>0.827556</td>\n",
       "      <td>0.909398</td>\n",
       "      <td>0.890384</td>\n",
       "      <td>0.987535</td>\n",
       "      <td>0.549076</td>\n",
       "      <td>1.029136</td>\n",
       "      <td>0.656681</td>\n",
       "      <td>1.105393</td>\n",
       "      <td>1.412679</td>\n",
       "      <td>0.442870</td>\n",
       "      <td>0.0</td>\n",
       "      <td>1.0</td>\n",
       "      <td>0.0</td>\n",
       "      <td>0.0</td>\n",
       "      <td>1.0</td>\n",
       "      <td>0.5</td>\n",
       "      <td>80.44</td>\n",
       "    </tr>\n",
       "    <tr>\n",
       "      <th>4</th>\n",
       "      <td>0.804862</td>\n",
       "      <td>1.261496</td>\n",
       "      <td>0.702730</td>\n",
       "      <td>0.370147</td>\n",
       "      <td>0.789774</td>\n",
       "      <td>1.098488</td>\n",
       "      <td>0.811538</td>\n",
       "      <td>0.974493</td>\n",
       "      <td>1.194700</td>\n",
       "      <td>0.632224</td>\n",
       "      <td>0.927453</td>\n",
       "      <td>0.885650</td>\n",
       "      <td>0.0</td>\n",
       "      <td>0.0</td>\n",
       "      <td>0.0</td>\n",
       "      <td>1.0</td>\n",
       "      <td>0.0</td>\n",
       "      <td>1.0</td>\n",
       "      <td>47.75</td>\n",
       "    </tr>\n",
       "  </tbody>\n",
       "</table>\n",
       "</div>"
      ],
      "text/plain": [
       "   Feature_1  Feature_2  Feature_3  Feature_4  Feature_5  Feature_6   \n",
       "0   0.971050   1.492187   0.900317   0.751004   1.006100   0.798246  \\\n",
       "1   1.021768   0.979192   0.971937   1.053414   0.579297   1.144529   \n",
       "2   0.360994   1.176786   0.750476   0.850830   1.116792   1.152874   \n",
       "3   0.723536   0.945413   0.827556   0.909398   0.890384   0.987535   \n",
       "4   0.804862   1.261496   0.702730   0.370147   0.789774   1.098488   \n",
       "\n",
       "   Feature_7  Feature_8  Feature_9  Feature_10  Feature_11  Feature_12   \n",
       "0   1.163337   0.376000   0.731282    0.741278    0.873319    1.099013  \\\n",
       "1   0.797453   1.067014   1.119919    1.000019    0.801103    0.826242   \n",
       "2   1.001998   1.402319   0.667415    0.986138    0.724366    1.061525   \n",
       "3   0.549076   1.029136   0.656681    1.105393    1.412679    0.442870   \n",
       "4   0.811538   0.974493   1.194700    0.632224    0.927453    0.885650   \n",
       "\n",
       "   Category_1_A  Category_1_B  Category_1_C  Category_2_X  Category_2_Y   \n",
       "0           0.0           1.0           0.0           1.0           0.0  \\\n",
       "1           1.0           0.0           0.0           0.0           1.0   \n",
       "2           0.0           1.0           0.0           0.0           1.0   \n",
       "3           0.0           1.0           0.0           0.0           1.0   \n",
       "4           0.0           0.0           0.0           1.0           0.0   \n",
       "\n",
       "   ordinal  Target  \n",
       "0      0.5   77.20  \n",
       "1      0.5   58.78  \n",
       "2      0.0   50.00  \n",
       "3      0.5   80.44  \n",
       "4      1.0   47.75  "
      ]
     },
     "execution_count": 19,
     "metadata": {},
     "output_type": "execute_result"
    }
   ],
   "source": [
    "df.head()"
   ]
  },
  {
   "cell_type": "markdown",
   "id": "303a9773",
   "metadata": {},
   "source": [
    "### Gradient Descent Implementation"
   ]
  },
  {
   "cell_type": "code",
   "execution_count": 20,
   "id": "d7dcb7e7",
   "metadata": {},
   "outputs": [
    {
     "data": {
      "text/plain": [
       "(2000, 19)"
      ]
     },
     "execution_count": 20,
     "metadata": {},
     "output_type": "execute_result"
    }
   ],
   "source": [
    "df.shape"
   ]
  },
  {
   "cell_type": "code",
   "execution_count": 21,
   "id": "0d4d7904",
   "metadata": {},
   "outputs": [],
   "source": [
    "X = df.iloc[:,0:-1].to_numpy()\n",
    "y = df.iloc[:, -1].to_numpy()\n",
    "y = y[:, np.newaxis]"
   ]
  },
  {
   "cell_type": "code",
   "execution_count": 22,
   "id": "214f2942",
   "metadata": {},
   "outputs": [],
   "source": [
    "ones = np.ones([len(X), 1])\n",
    "X = np.hstack([ones, X])"
   ]
  },
  {
   "cell_type": "code",
   "execution_count": 23,
   "id": "baee8f25",
   "metadata": {},
   "outputs": [],
   "source": [
    "def getCost(X, y, theta):\n",
    "    m, n = X.shape\n",
    "    temp1 = np.dot(X, theta)-y\n",
    "    J = 1/(2*m) * np.sum(np.power(temp1, 2))\n",
    "    return J "
   ]
  },
  {
   "cell_type": "code",
   "execution_count": 24,
   "id": "0864706e",
   "metadata": {},
   "outputs": [],
   "source": [
    "alpha = 0.1\n",
    "num_iters = 20000\n",
    "theta = np.zeros([X.shape[1], 1])"
   ]
  },
  {
   "cell_type": "code",
   "execution_count": 25,
   "id": "c206efa5",
   "metadata": {},
   "outputs": [],
   "source": [
    "def gradDescentMulti(X, y, theta, alpha, iteration):\n",
    "    m, n = X.shape \n",
    "    J_hist = np.zeros([iteration, 1])\n",
    "    for t in range(num_iters):\n",
    "        temp = (np.dot(X, theta) - y)\n",
    "        temp = np.dot(X.T, temp)\n",
    "        temp = alpha/m * temp\n",
    "        theta = theta - temp\n",
    "        J_hist[t] = getCost(X, y, theta)\n",
    "    return theta, J_hist"
   ]
  },
  {
   "cell_type": "code",
   "execution_count": 26,
   "id": "eb8c4033",
   "metadata": {},
   "outputs": [
    {
     "name": "stdout",
     "output_type": "stream",
     "text": [
      "Time Taken: 17.05\n"
     ]
    }
   ],
   "source": [
    "start = time.time()\n",
    "theta, J_hist = gradDescentMulti(X, y, theta, alpha, num_iters)\n",
    "end = time.time()\n",
    "print(\"Time Taken:\",round(end-start,2))"
   ]
  },
  {
   "cell_type": "code",
   "execution_count": 27,
   "id": "3cf342e6",
   "metadata": {},
   "outputs": [
    {
     "data": {
      "text/plain": [
       "array([[185.39199349],\n",
       "       [-84.00940116],\n",
       "       [-49.8328836 ],\n",
       "       [ 79.93059536],\n",
       "       [ 72.29450984],\n",
       "       [ 23.42450485],\n",
       "       [-37.13228244],\n",
       "       [ 24.39027767],\n",
       "       [-47.5743955 ],\n",
       "       [ 12.6456728 ],\n",
       "       [-61.23633218],\n",
       "       [  5.28515745],\n",
       "       [-43.21695273],\n",
       "       [-11.63039202],\n",
       "       [ -7.02090335],\n",
       "       [  5.34807041],\n",
       "       [  5.61390723],\n",
       "       [ -4.70696095],\n",
       "       [  2.43571023]])"
      ]
     },
     "execution_count": 27,
     "metadata": {},
     "output_type": "execute_result"
    }
   ],
   "source": [
    "theta"
   ]
  },
  {
   "cell_type": "code",
   "execution_count": 28,
   "id": "f1107758",
   "metadata": {},
   "outputs": [
    {
     "data": {
      "text/plain": [
       "35.19994770085704"
      ]
     },
     "execution_count": 28,
     "metadata": {},
     "output_type": "execute_result"
    }
   ],
   "source": [
    "datapoint = np.array([[0.5]*19]).reshape(19, 1)\n",
    "pred = np.dot(np.transpose(theta), datapoint)[0][0]\n",
    "pred"
   ]
  },
  {
   "cell_type": "code",
   "execution_count": 29,
   "id": "26ebb5e9",
   "metadata": {},
   "outputs": [
    {
     "data": {
      "image/png": "[encoded data removed]",
      "text/plain": [
       "<Figure size 640x480 with 1 Axes>"
      ]
     },
     "metadata": {},
     "output_type": "display_data"
    }
   ],
   "source": [
    "# Plot J history for multiple variables\n",
    "plt.style.use('fivethirtyeight')\n",
    "\n",
    "plt.plot(range(num_iters), J_hist)\n",
    "plt.xlabel(\"Iteration\")\n",
    "plt.ylabel(r'J($\\theta$)')\n",
    "plt.title(\"J_history with {} iteration\".format(num_iters))\n",
    "plt.show()"
   ]
  },
  {
   "cell_type": "code",
   "execution_count": 30,
   "id": "d9cc0a72",
   "metadata": {},
   "outputs": [
    {
     "data": {
      "text/plain": [
       "array([104.14927925])"
      ]
     },
     "execution_count": 30,
     "metadata": {},
     "output_type": "execute_result"
    }
   ],
   "source": [
    "J_hist[-1]"
   ]
  },
  {
   "cell_type": "markdown",
   "id": "a6ea1cd7",
   "metadata": {},
   "source": [
    "### Stochastic Gradient Decsent"
   ]
  },
  {
   "cell_type": "code",
   "execution_count": 31,
   "id": "a0539153",
   "metadata": {},
   "outputs": [],
   "source": [
    "def Stochastic_gradDescentMulti(X_original, y_original, theta, alpha, iteration,k=1):\n",
    "    m, n = X_original.shape \n",
    "    J_hist = np.zeros([iteration, 1])\n",
    "    \n",
    "    for t in range(num_iters):\n",
    "        rng = default_rng()\n",
    "        indexes = rng.choice(len(X_original), size=k, replace=False)\n",
    "        X = np.take(X_original, indexes,axis=0)\n",
    "        y = np.take(y_original, indexes,axis=0)\n",
    "        \n",
    "        temp = (np.dot(X, theta) - y)\n",
    "        temp = np.dot(X.T, temp)\n",
    "        temp = alpha/m * temp\n",
    "        theta = theta - temp\n",
    "        J_hist[t] = getCost(X, y, theta)\n",
    "    return theta, J_hist"
   ]
  },
  {
   "cell_type": "code",
   "execution_count": 32,
   "id": "de1359a5",
   "metadata": {},
   "outputs": [],
   "source": [
    "alpha = 0.1\n",
    "num_iters = 20000\n",
    "theta = np.zeros([X.shape[1], 1])"
   ]
  },
  {
   "cell_type": "code",
   "execution_count": 33,
   "id": "4c224730",
   "metadata": {},
   "outputs": [
    {
     "name": "stdout",
     "output_type": "stream",
     "text": [
      "Time Taken: 3.47\n"
     ]
    }
   ],
   "source": [
    "start = time.time()\n",
    "theta, J_hist = Stochastic_gradDescentMulti(X, y, theta, alpha, num_iters)\n",
    "end = time.time()\n",
    "print(\"Time Taken:\",round(end-start,2))"
   ]
  },
  {
   "cell_type": "code",
   "execution_count": 34,
   "id": "ff493492",
   "metadata": {},
   "outputs": [
    {
     "data": {
      "text/plain": [
       "array([[ 4.75313202],\n",
       "       [-1.97656875],\n",
       "       [ 1.03782387],\n",
       "       [ 5.97022426],\n",
       "       [ 9.23110674],\n",
       "       [ 5.18076383],\n",
       "       [ 1.47878292],\n",
       "       [ 4.87617932],\n",
       "       [ 1.14864464],\n",
       "       [ 4.71764715],\n",
       "       [-0.69109522],\n",
       "       [ 5.46512205],\n",
       "       [ 1.52420835],\n",
       "       [-1.05094069],\n",
       "       [ 1.63834123],\n",
       "       [ 3.98181874],\n",
       "       [ 4.21013671],\n",
       "       [ 0.40623421],\n",
       "       [ 2.04011597]])"
      ]
     },
     "execution_count": 34,
     "metadata": {},
     "output_type": "execute_result"
    }
   ],
   "source": [
    "theta"
   ]
  },
  {
   "cell_type": "code",
   "execution_count": 36,
   "id": "f3819d1b",
   "metadata": {},
   "outputs": [
    {
     "data": {
      "image/png": "[encoded data removed]",
      "text/plain": [
       "<Figure size 640x480 with 1 Axes>"
      ]
     },
     "metadata": {},
     "output_type": "display_data"
    }
   ],
   "source": [
    "# Plot J history for multiple variables\n",
    "plt.style.use('fivethirtyeight')\n",
    "\n",
    "plt.plot(range(num_iters), J_hist)\n",
    "plt.xlabel(\"Iteration\")\n",
    "plt.ylabel(r'J($\\theta$)')\n",
    "plt.title(\"J_history with {} iteration\".format(num_iters))\n",
    "plt.show()"
   ]
  },
  {
   "cell_type": "code",
   "execution_count": 37,
   "id": "4cea4d35",
   "metadata": {},
   "outputs": [
    {
     "data": {
      "text/plain": [
       "array([247.12319364])"
      ]
     },
     "execution_count": 37,
     "metadata": {},
     "output_type": "execute_result"
    }
   ],
   "source": [
    "J_hist[-1]"
   ]
  },
  {
   "cell_type": "markdown",
   "id": "d5bb2ac4",
   "metadata": {},
   "source": [
    "### Mini Batch Gradient Descent"
   ]
  },
  {
   "cell_type": "markdown",
   "id": "d769058e",
   "metadata": {},
   "source": [
    "#### k=32"
   ]
  },
  {
   "cell_type": "code",
   "execution_count": 38,
   "id": "7fe4d737",
   "metadata": {},
   "outputs": [],
   "source": [
    "def Batch_gradDescentMulti(X_original, y_original, theta, alpha, iteration,k=32):\n",
    "    m, n = X_original.shape # m, number of dataset and n, number of features of X_norm\n",
    "    J_hist = np.zeros([iteration, 1])\n",
    "    \n",
    "    for t in range(num_iters):\n",
    "        rng = default_rng()\n",
    "        indexes = rng.choice(len(X_original), size=k, replace=False)\n",
    "#         print(indexes)\n",
    "        X = np.take(X_original, indexes,axis=0)\n",
    "        y = np.take(y_original, indexes,axis=0)\n",
    "        \n",
    "        temp = (np.dot(X, theta) - y)\n",
    "        temp = np.dot(X.T, temp)\n",
    "        temp = alpha/m * temp\n",
    "        theta = theta - temp\n",
    "        J_hist[t] = getCost(X, y, theta)\n",
    "    return theta, J_hist"
   ]
  },
  {
   "cell_type": "code",
   "execution_count": 39,
   "id": "b7a35804",
   "metadata": {},
   "outputs": [],
   "source": [
    "alpha = 0.1\n",
    "num_iters = 20000\n",
    "theta = np.zeros([X.shape[1], 1])"
   ]
  },
  {
   "cell_type": "code",
   "execution_count": 40,
   "id": "2d6c5509",
   "metadata": {},
   "outputs": [
    {
     "name": "stdout",
     "output_type": "stream",
     "text": [
      "Time Taken: 3.56\n"
     ]
    }
   ],
   "source": [
    "start = time.time()\n",
    "theta, J_hist = Batch_gradDescentMulti(X, y, theta, alpha, num_iters)\n",
    "end = time.time()\n",
    "print(\"Time Taken:\",round(end-start,2))"
   ]
  },
  {
   "cell_type": "code",
   "execution_count": 41,
   "id": "350af6e6",
   "metadata": {},
   "outputs": [
    {
     "data": {
      "text/plain": [
       "array([[ 35.94087317],\n",
       "       [-65.87063509],\n",
       "       [-32.26112097],\n",
       "       [ 68.12453468],\n",
       "       [ 76.21361569],\n",
       "       [ 30.71939295],\n",
       "       [-25.35406687],\n",
       "       [ 32.55009665],\n",
       "       [-30.3782668 ],\n",
       "       [ 22.94919783],\n",
       "       [-48.91127789],\n",
       "       [ 16.89552291],\n",
       "       [-22.33330879],\n",
       "       [ -0.71582521],\n",
       "       [  5.06507724],\n",
       "       [ 17.69601715],\n",
       "       [ 17.39054691],\n",
       "       [  6.79559799],\n",
       "       [  5.20262346]])"
      ]
     },
     "execution_count": 41,
     "metadata": {},
     "output_type": "execute_result"
    }
   ],
   "source": [
    "theta"
   ]
  },
  {
   "cell_type": "code",
   "execution_count": 43,
   "id": "cd292d8a",
   "metadata": {},
   "outputs": [
    {
     "data": {
      "image/png": "[encoded data removed]",
      "text/plain": [
       "<Figure size 640x480 with 1 Axes>"
      ]
     },
     "metadata": {},
     "output_type": "display_data"
    }
   ],
   "source": [
    "# Plot J history for multiple variables\n",
    "plt.style.use('fivethirtyeight')\n",
    "\n",
    "plt.plot(range(num_iters), J_hist)\n",
    "plt.xlabel(\"Iteration\")\n",
    "plt.ylabel(r'J($\\theta$)')\n",
    "plt.title(\"J_history with {} iteration\".format(num_iters))\n",
    "plt.show()"
   ]
  },
  {
   "cell_type": "code",
   "execution_count": 44,
   "id": "f152315d",
   "metadata": {},
   "outputs": [
    {
     "data": {
      "text/plain": [
       "array([257.20843932])"
      ]
     },
     "execution_count": 44,
     "metadata": {},
     "output_type": "execute_result"
    }
   ],
   "source": [
    "J_hist[-1]"
   ]
  },
  {
   "cell_type": "markdown",
   "id": "59ad6582",
   "metadata": {},
   "source": [
    "#### k=64"
   ]
  },
  {
   "cell_type": "code",
   "execution_count": 45,
   "id": "1e1bf022",
   "metadata": {},
   "outputs": [],
   "source": [
    "alpha = 0.1\n",
    "num_iters = 20000\n",
    "theta = np.zeros([X.shape[1], 1])"
   ]
  },
  {
   "cell_type": "code",
   "execution_count": 46,
   "id": "40d77298",
   "metadata": {},
   "outputs": [
    {
     "name": "stdout",
     "output_type": "stream",
     "text": [
      "Time Taken: 3.69\n"
     ]
    }
   ],
   "source": [
    "start = time.time()\n",
    "theta, J_hist = Batch_gradDescentMulti(X, y, theta, alpha, num_iters,64)\n",
    "end = time.time()\n",
    "print(\"Time Taken:\",round(end-start,2))"
   ]
  },
  {
   "cell_type": "code",
   "execution_count": 47,
   "id": "14e797a4",
   "metadata": {},
   "outputs": [
    {
     "data": {
      "text/plain": [
       "array([[ 58.64190329],\n",
       "       [-75.13470977],\n",
       "       [-39.30985831],\n",
       "       [ 83.02484825],\n",
       "       [ 81.10817528],\n",
       "       [ 32.34151737],\n",
       "       [-28.92760464],\n",
       "       [ 35.41591873],\n",
       "       [-36.32933919],\n",
       "       [ 22.73786591],\n",
       "       [-54.38590974],\n",
       "       [ 13.88846208],\n",
       "       [-30.63894482],\n",
       "       [ -0.15258205],\n",
       "       [  4.95301077],\n",
       "       [ 17.55441843],\n",
       "       [ 18.83702203],\n",
       "       [  8.35567553],\n",
       "       [  4.33857232]])"
      ]
     },
     "execution_count": 47,
     "metadata": {},
     "output_type": "execute_result"
    }
   ],
   "source": [
    "theta"
   ]
  },
  {
   "cell_type": "code",
   "execution_count": 49,
   "id": "04c18326",
   "metadata": {},
   "outputs": [
    {
     "data": {
      "image/png": "[encoded data removed]",
      "text/plain": [
       "<Figure size 640x480 with 1 Axes>"
      ]
     },
     "metadata": {},
     "output_type": "display_data"
    }
   ],
   "source": [
    "# Plot J history for multiple variables\n",
    "plt.style.use('fivethirtyeight')\n",
    "\n",
    "plt.plot(range(num_iters), J_hist)\n",
    "plt.xlabel(\"Iteration\")\n",
    "plt.ylabel(r'J($\\theta$)')\n",
    "plt.title(\"J_history with {} iteration\".format(num_iters))\n",
    "plt.show()"
   ]
  },
  {
   "cell_type": "code",
   "execution_count": 50,
   "id": "5fd51d13",
   "metadata": {},
   "outputs": [
    {
     "data": {
      "text/plain": [
       "array([128.30055512])"
      ]
     },
     "execution_count": 50,
     "metadata": {},
     "output_type": "execute_result"
    }
   ],
   "source": [
    "J_hist[-1]"
   ]
  },
  {
   "cell_type": "markdown",
   "id": "bd28794b",
   "metadata": {},
   "source": [
    "#### k = 128"
   ]
  },
  {
   "cell_type": "code",
   "execution_count": 51,
   "id": "26caa091",
   "metadata": {},
   "outputs": [],
   "source": [
    "alpha = 0.1\n",
    "num_iters = 20000\n",
    "theta = np.zeros([X.shape[1], 1])"
   ]
  },
  {
   "cell_type": "code",
   "execution_count": 52,
   "id": "4aa1ca3b",
   "metadata": {},
   "outputs": [
    {
     "name": "stdout",
     "output_type": "stream",
     "text": [
      "Time Taken: 4.03\n"
     ]
    }
   ],
   "source": [
    "start = time.time()\n",
    "theta, J_hist = Batch_gradDescentMulti(X, y, theta, alpha, num_iters,128)\n",
    "end = time.time()\n",
    "print(\"Time Taken:\",round(end-start,2))"
   ]
  },
  {
   "cell_type": "code",
   "execution_count": 53,
   "id": "b2bdbea0",
   "metadata": {},
   "outputs": [
    {
     "data": {
      "text/plain": [
       "array([[ 92.32076267],\n",
       "       [-78.49366185],\n",
       "       [-43.00406444],\n",
       "       [ 85.68250599],\n",
       "       [ 79.06580513],\n",
       "       [ 29.90511013],\n",
       "       [-31.37292459],\n",
       "       [ 33.26385923],\n",
       "       [-39.92479502],\n",
       "       [ 19.90969019],\n",
       "       [-56.67744984],\n",
       "       [ 11.24681921],\n",
       "       [-35.43352268],\n",
       "       [ -2.16261243],\n",
       "       [  2.77313151],\n",
       "       [ 15.34248835],\n",
       "       [ 16.38283177],\n",
       "       [  5.96146521],\n",
       "       [  3.7267026 ]])"
      ]
     },
     "execution_count": 53,
     "metadata": {},
     "output_type": "execute_result"
    }
   ],
   "source": [
    "theta"
   ]
  },
  {
   "cell_type": "code",
   "execution_count": 55,
   "id": "58824055",
   "metadata": {},
   "outputs": [
    {
     "data": {
      "image/png": "[encoded data removed]",
      "text/plain": [
       "<Figure size 640x480 with 1 Axes>"
      ]
     },
     "metadata": {},
     "output_type": "display_data"
    }
   ],
   "source": [
    "# Plot J history for multiple variables\n",
    "plt.style.use('fivethirtyeight')\n",
    "\n",
    "plt.plot(range(num_iters), J_hist)\n",
    "plt.xlabel(\"Iteration\")\n",
    "plt.ylabel(r'J($\\theta$)')\n",
    "plt.title(\"J_history with {} iteration\".format(num_iters))\n",
    "plt.show()"
   ]
  },
  {
   "cell_type": "code",
   "execution_count": 56,
   "id": "71ca89f3",
   "metadata": {},
   "outputs": [
    {
     "data": {
      "text/plain": [
       "array([89.03840715])"
      ]
     },
     "execution_count": 56,
     "metadata": {},
     "output_type": "execute_result"
    }
   ],
   "source": [
    "J_hist[-1]"
   ]
  },
  {
   "cell_type": "code",
   "execution_count": null,
   "id": "9e6cff47",
   "metadata": {},
   "outputs": [],
   "source": []
  }
 ],
 "metadata": {
  "kernelspec": {
   "display_name": "Python 3 (ipykernel)",
   "language": "python",
   "name": "python3"
  },
  "language_info": {
   "codemirror_mode": {
    "name": "ipython",
    "version": 3
   },
   "file_extension": ".py",
   "mimetype": "text/x-python",
   "name": "python",
   "nbconvert_exporter": "python",
   "pygments_lexer": "ipython3",
   "version": "3.10.12"
  }
 },
 "nbformat": 4,
 "nbformat_minor": 5
}
